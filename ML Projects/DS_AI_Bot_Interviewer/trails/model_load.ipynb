{
 "cells": [
  {
   "cell_type": "code",
   "execution_count": null,
   "metadata": {},
   "outputs": [],
   "source": [
    "from dotenv import load_dotenv\n",
    "import os\n",
    "from transformers import AutoTokenizer,pipeline, GenerationConfig"
   ]
  },
  {
   "cell_type": "code",
   "execution_count": null,
   "metadata": {},
   "outputs": [],
   "source": [
    "load_dotenv()\n",
    "os.environ['HF_HOME'] = os.getenv('HF_HOME')\n",
    "MODEL_NAME = os.getenv('MODEL_NAME')\n",
    "MODEL_FILE = os.getenv('MODEL_FILE')\n",
    "TOKENIZER = os.getenv('TOKENIZER')\n",
    "os.environ[\"HUGGINGFACEHUB_API_TOKEN\"] = os.getenv('HF_API')"
   ]
  },
  {
   "cell_type": "code",
   "execution_count": null,
   "metadata": {},
   "outputs": [],
   "source": [
    "# load the tokenizer from HF\n",
    "toeknizer = AutoTokenizer.from_pretrained(TOKENIZER,use_fast=True)"
   ]
  },
  {
   "cell_type": "code",
   "execution_count": null,
   "metadata": {},
   "outputs": [],
   "source": [
    "# Creating general configuration\n",
    "generation_config = GenerationConfig.from_pretrained(MODEL_NAME)\n",
    "generation_config.max_new_tokens = 512\n",
    "generation_config.temperature = 0.47\n",
    "generation_config.remove_invalid_values = True\n",
    "generation_config.do_sample = True\n"
   ]
  },
  {
   "cell_type": "code",
   "execution_count": null,
   "metadata": {},
   "outputs": [],
   "source": [
    "# Use a pipeline as a high-level helper\n",
    "base_pipeline = pipeline(task=\"text-generation\", \n",
    "                model=MODEL_NAME,\n",
    "                revision=MODEL_FILE,\n",
    "                tokenizer=toeknizer,\n",
    "                device_map='auto',\n",
    "                use_fast=True,\n",
    "                trust_remote_code=True,\n",
    "                generation_config=generation_config,\n",
    "                # model_kwargs={'temperature':0.47,\n",
    "                #               'max_new_tokens':512,\n",
    "                #               'stream':True\n",
    "                #             }\n",
    "                )"
   ]
  },
  {
   "cell_type": "markdown",
   "metadata": {},
   "source": [
    "#### Create a sample prompt and test with Langchain"
   ]
  },
  {
   "cell_type": "code",
   "execution_count": null,
   "metadata": {},
   "outputs": [],
   "source": [
    "from langchain.memory import ConversationBufferMemory\n",
    "from langchain.chains import LLMChain\n",
    "from langchain.llms import HuggingFacePipeline"
   ]
  },
  {
   "cell_type": "code",
   "execution_count": null,
   "metadata": {},
   "outputs": [],
   "source": [
    "# Intergarting the Model into Langchain\n",
    "LC_model = HuggingFacePipeline(pipeline=base_pipeline,\n",
    "                                model_kwargs={'temperature':0.47,\n",
    "                                            'max_new_tokens':512,\n",
    "                                            }\n",
    "                            )"
   ]
  },
  {
   "cell_type": "code",
   "execution_count": null,
   "metadata": {},
   "outputs": [],
   "source": [
    "from langchain.prompts.chat import (\n",
    "    ChatPromptTemplate,\n",
    "    HumanMessagePromptTemplate,\n",
    "    MessagesPlaceholder,\n",
    ")\n",
    "from langchain.schema import SystemMessage\n",
    "\n",
    "template_messages = [\n",
    "    SystemMessage(content=\"Act as a casual chat bot and chat with user as a casual friend. Do not share false information.\"),\n",
    "    MessagesPlaceholder(variable_name=\"chat_history\"),\n",
    "    HumanMessagePromptTemplate.from_template(\"{text}\"),\n",
    "]\n",
    "prompt_template = ChatPromptTemplate.from_messages(template_messages)"
   ]
  },
  {
   "cell_type": "code",
   "execution_count": null,
   "metadata": {},
   "outputs": [],
   "source": [
    "memory = ConversationBufferMemory(memory_key=\"chat_history\", return_messages=True)\n",
    "chain = LLMChain(llm=LC_model, prompt=prompt_template, memory=memory)"
   ]
  },
  {
   "cell_type": "code",
   "execution_count": null,
   "metadata": {},
   "outputs": [],
   "source": [
    "chain.predict(text='Hello')"
   ]
  },
  {
   "cell_type": "code",
   "execution_count": null,
   "metadata": {},
   "outputs": [],
   "source": []
  }
 ],
 "metadata": {
  "kernelspec": {
   "display_name": "AI_interviewer",
   "language": "python",
   "name": "python3"
  },
  "language_info": {
   "codemirror_mode": {
    "name": "ipython",
    "version": 3
   },
   "file_extension": ".py",
   "mimetype": "text/x-python",
   "name": "python",
   "nbconvert_exporter": "python",
   "pygments_lexer": "ipython3",
   "version": "3.9.18"
  }
 },
 "nbformat": 4,
 "nbformat_minor": 2
}
